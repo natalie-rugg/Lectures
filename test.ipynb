{
 "cells": [
  {
   "cell_type": "code",
   "execution_count": 1,
   "id": "turkish-wrist",
   "metadata": {},
   "outputs": [
    {
     "name": "stdout",
     "output_type": "stream",
     "text": [
      "\n",
      "****************************** Results ********************************\n",
      "\n",
      "final time  =  1.0000000000000007\n",
      "y =  5.104899999999977 and v =  -9.800000000000114\n",
      "EXACT y =  5.099999999999993\n",
      "**********************************************************************\n"
     ]
    }
   ],
   "source": [
    "run FallingBall1.py"
   ]
  },
  {
   "cell_type": "code",
   "execution_count": 2,
   "id": "serial-recovery",
   "metadata": {},
   "outputs": [
    {
     "name": "stdout",
     "output_type": "stream",
     "text": [
      "*****   Hello PHYS 1600 !!!   *****\n",
      "\n",
      "1\n",
      "1\n",
      "2\n",
      "3\n",
      "5\n",
      "8\n",
      "[1, 1, 2, 3, 5, 8]\n",
      "0 , 0\n",
      "1 , 1\n",
      "2 , 1\n",
      "3 , 2\n",
      "4 , 3\n"
     ]
    }
   ],
   "source": [
    "import Demo"
   ]
  },
  {
   "cell_type": "code",
   "execution_count": 3,
   "id": "dying-sellers",
   "metadata": {},
   "outputs": [
    {
     "ename": "ModuleNotFoundError",
     "evalue": "No module named 'matplotlib.py'",
     "output_type": "error",
     "traceback": [
      "\u001b[0;31m---------------------------------------------------------------------------\u001b[0m",
      "\u001b[0;31mModuleNotFoundError\u001b[0m                       Traceback (most recent call last)",
      "\u001b[0;32m<ipython-input-3-185f7b4a90d0>\u001b[0m in \u001b[0;36m<module>\u001b[0;34m\u001b[0m\n\u001b[0;32m----> 1\u001b[0;31m \u001b[0;32mimport\u001b[0m \u001b[0mmatplotlib\u001b[0m\u001b[0;34m.\u001b[0m\u001b[0mpy\u001b[0m\u001b[0;34m\u001b[0m\u001b[0;34m\u001b[0m\u001b[0m\n\u001b[0m",
      "\u001b[0;31mModuleNotFoundError\u001b[0m: No module named 'matplotlib.py'"
     ]
    }
   ],
   "source": [
    "import matplotlib.py"
   ]
  },
  {
   "cell_type": "code",
   "execution_count": null,
   "id": "broken-latvia",
   "metadata": {},
   "outputs": [],
   "source": []
  }
 ],
 "metadata": {
  "kernelspec": {
   "display_name": "Python 3",
   "language": "python",
   "name": "phys1600"
  },
  "language_info": {
   "codemirror_mode": {
    "name": "ipython",
    "version": 3
   },
   "file_extension": ".py",
   "mimetype": "text/x-python",
   "name": "python",
   "nbconvert_exporter": "python",
   "pygments_lexer": "ipython3",
   "version": "3.8.6"
  }
 },
 "nbformat": 4,
 "nbformat_minor": 5
}
